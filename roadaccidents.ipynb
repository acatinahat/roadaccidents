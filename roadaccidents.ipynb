{
 "cells": [
  {
<<<<<<< HEAD
   "cell_type": "markdown",
   "metadata": {},
   "source": [
    "## Road Accident Project\n",
    "This notebook will be mainly used for the capstone project."
   ]
  },
  {
   "cell_type": "code",
   "execution_count": 1,
   "metadata": {},
   "outputs": [],
   "source": [
    "import numpy as np\n",
    "import pandas as pd"
   ]
  },
  {
   "cell_type": "code",
   "execution_count": 1,
=======
   "cell_type": "code",
   "execution_count": 2,
>>>>>>> 2df7b509f884774d21e0a87b865ab7fea3be3193
   "metadata": {},
   "outputs": [
    {
     "name": "stdout",
     "output_type": "stream",
     "text": [
<<<<<<< HEAD
      "Hello Capstone Project Course!\n"
=======
      "an attempt!\n"
>>>>>>> 2df7b509f884774d21e0a87b865ab7fea3be3193
     ]
    }
   ],
   "source": [
<<<<<<< HEAD
    "print(\"Hello Capstone Project Course!\")"
=======
    "print(\"an attempt!\")"
>>>>>>> 2df7b509f884774d21e0a87b865ab7fea3be3193
   ]
  },
  {
   "cell_type": "code",
   "execution_count": null,
   "metadata": {},
   "outputs": [],
   "source": []
<<<<<<< HEAD
  },
  {
   "cell_type": "code",
   "execution_count": null,
   "metadata": {},
   "outputs": [],
   "source": []
=======
>>>>>>> 2df7b509f884774d21e0a87b865ab7fea3be3193
  }
 ],
 "metadata": {
  "kernelspec": {
   "display_name": "Python 3",
   "language": "python",
   "name": "python3"
  },
  "language_info": {
   "codemirror_mode": {
    "name": "ipython",
    "version": 3
   },
   "file_extension": ".py",
   "mimetype": "text/x-python",
   "name": "python",
   "nbconvert_exporter": "python",
   "pygments_lexer": "ipython3",
   "version": "3.8.3"
  }
 },
 "nbformat": 4,
 "nbformat_minor": 4
}
